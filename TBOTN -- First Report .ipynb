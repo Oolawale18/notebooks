{
    "cells": [
        {
            "cell_type": "markdown",
            "metadata": {},
            "source": "# Olatunde Olawale \n# TBOTN - First report \n# IBM Applied Data Science Capstone Project"
        },
        {
            "cell_type": "markdown",
            "metadata": {},
            "source": "## Introduction: "
        },
        {
            "cell_type": "markdown",
            "metadata": {},
            "source": "Here, we would be taking a closer look at New York City, known for it diversity, and also providing multiple opportunities for Individuals all over the world. The city is known for it's major attraction as it is a major center for Banking and Finance, Retailing, Transportation, Tourism, Real Estate, Media, legal Services, Insurance and much more. \n\nHence, this city comes with the competition as it is ranks amongst one of the best cities where you can find the best of whatever field you can imagine. Therefore, any business that wants to be in the race must be ready to analzed carefully and properly in order to beat the competition. Going through the Analysis, we should be able to derive god insights to get a good knowledge and analyze the environment and try to reduce the risk of the business not being a success, and getting a profitable investment in return."
        },
        {
            "cell_type": "markdown",
            "metadata": {},
            "source": "### Problem Description:"
        },
        {
            "cell_type": "markdown",
            "metadata": {},
            "source": "Living in busy city like New York City, You can imagine the less time or effort people would have to invest in cooking, but to continue the hectic schedule, they must feed. Hence, starting a restaurant in one of the busiest city would not be a bad idea and has a probability of a huge success if people have an affinty of what the restaurant has to offer. \n\nA Restaurant is a business which prepares and serves food and drinks to customers in return for money. This money can be paid before or after the meal is served. Realizing the diversity in New York City, that would be a major point to note as the food should contain an array of International Cuisines. \n\n\n* Meals such as bagels, Cheesecake, Hotr Dogs, Knishes are more consumed by Central and Eastern European Immigrants, even more Jewish Immigrants\n* Pizza, Pasta, and more Italian Cuisines are more likened to Italian Immigrants\n* Diners, Buffets and Sandwich Joints are more in the interstes of the Asian Community\n\n\nFurthermore, we have gained the knowledge of the meals that we should make the gain the attraction. We can not ignore the competitors in this city, so it is evident that we make an important Strategic Plan on where the Location of the Restaurant would be. \n\nFactors that need to be considered in choosing a Location would be:\n* The New York City Population.\n* The Competitors in the Area.\n* Recreational Venues such as Gyms, parks where the populaion might be more.\n* Meals/Cusines compared to the Interest of People living in the Area.\n* Untapped Markets.\n* and the list goes on......\n\n\nLastly, we need to analyze and choose a good location to start this Enterprise, and make sure we are succesful enough to stand competitors.\n\n"
        },
        {
            "cell_type": "markdown",
            "metadata": {},
            "source": "### Target Audience:"
        },
        {
            "cell_type": "markdown",
            "metadata": {},
            "source": "Here, Our Aim is to locate a top-notch location and recommend for the Restaurant/Enterprise, this would definitely interest anyone looking to make an investment if we have enough Proof/Analysis that this would bring a huge profit."
        },
        {
            "cell_type": "markdown",
            "metadata": {},
            "source": "### Success Criteria:"
        },
        {
            "cell_type": "markdown",
            "metadata": {},
            "source": "The Success Criteria of this Project would be Judged based on the Recommended Location prior to its Lack of similar Restaurants in that Area, and how much Customers it attracts."
        },
        {
            "cell_type": "code",
            "execution_count": null,
            "metadata": {},
            "outputs": [],
            "source": ""
        }
    ],
    "metadata": {
        "kernelspec": {
            "display_name": "Python 3.7",
            "language": "python",
            "name": "python3"
        },
        "language_info": {
            "codemirror_mode": {
                "name": "ipython",
                "version": 3
            },
            "file_extension": ".py",
            "mimetype": "text/x-python",
            "name": "python",
            "nbconvert_exporter": "python",
            "pygments_lexer": "ipython3",
            "version": "3.7.10"
        }
    },
    "nbformat": 4,
    "nbformat_minor": 1
}