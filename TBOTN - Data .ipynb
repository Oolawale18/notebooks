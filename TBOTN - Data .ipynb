{
    "cells": [
        {
            "cell_type": "markdown",
            "metadata": {
                "collapsed": true
            },
            "source": "# Data Analyzed \n\nNew York City is the city analyzed.\n\nFollowing facts and links attached:\n* The Neighborhod has a total of 5 Boroughs and 306 Neighborhoods, Hence, we need to segment them and explore them. Included are the Latitude and Longitude coordinates of each Neighborhood.\nhttps://geo.nyu.edu/catalog/nyu_2451_34572\n\n\n\n* As the Restaurant is involved with food, we looked into some data for markets like the DOHMH Farmer's market. (Also note that Farmer's market are places/sites used by local or regional producers for the direct sale of farm products to consumers. They are wholesalers of fresh foods and other minimally processed foods.     Here is a link of DOHMH \nhttps://data.cityofnewyork.us/dataset/DOHMH-Farmers-Markets-and-Food-Boxes/8vwk-6iz2 ,    Along with GrowNYC fresh food box Program link. https://www.grownyc.org/greenmarketco/foodbox\n\n\n\n* In addition to the markets, We scraped the internet for some important data such as --- New York Population: https://en.wikipedia.org/wiki/New_York_City , ---The Economy of New York City: https://en.wikipedia.org/wiki/Economy_of_New_York_City , --- New York City Portal and Demographics: https://en.wikipedia.org/wiki/Portal:New_York_City , ---Cuisines of New York City:  https://en.wikipedia.org/wiki/Cuisine_of_New_York_City , and Lastly, a list of the starred restaurants in the City: https://en.wikipedia.org/wiki/List_of_Michelin_starred_restaurants_in_New_York_City\n\n\n* Remember that Foursquare API would be used for the geographical coordinates and to get more information that would enable us to get insights into the Neighborhood : https://foursquare.com"
        },
        {
            "cell_type": "markdown",
            "metadata": {},
            "source": "# Analytic Approach "
        },
        {
            "cell_type": "markdown",
            "metadata": {},
            "source": "Here, we noticed that New York City has a total of 5 boroughs and 306 neighborhoods\n\nUsing this Knowledge, we would approach our data in two parts, \n-- Clustering of manhanttan and Brooklyn\n-- Clustering of Bronx, Queens and Staten Island.\n\n\nThe only restaurant datas are filtered from Foursquare.com and utilized for this project.\n\n#### Method 1: \nGenerating the New York City Geographical Coordinates Data.\n* load the data and explore the newyork_data.json\n* Transform the data into a pandas dataframe.\n* The Dataframe contains the geographical coordinates of New York City Neighborhoods\n* The Venues would be explored using Foursquare.\n* Lastly, Using Geopy and Folium Libraries, We would be able to create a map of New York City with the Neighborhoods superimposed on top of it.\n\n\n#### Method 2:\nExploring the DOHMH Farmer's Market and Food dataset.\n* After Exploring the Dataset, and Knowing the number of Farmer's market in New York City \n* We get the data of the highest number of population in Manhattan and Brooklyn (Most Likely), and the lowest would be shown.\n\n\n#### Method 3:\nAnalyzing the city, The demographics and the data scrapped from the Wikipedia links given in the above data section.\n* We import Beautiful soup library(also an extension in Python Library, which is a python package for parsing HTMl and XML documents)\n* this creates a parsed tree for parsed pages that can be used for extracting data from HTML, and also used for Web scraping.\n* We then get the data for the smallest geographical and most densely populated area, In addition, we get the city's demographics and the race diversity.\n* These above data gives us a hint of the cuisine we would be able to focus on.\n\n#### Method 4: \nOur Analysis are performed om a very limited data.\n* NewYork city geographical coordinates data  has  be utilized as input for the Foursquare API, that has been leveraged to provide venues information for each neighborhood.  \n* We used the Foursquare API data to explore neighborhoods in New York City.  \n* Using the geographical coordinates of each neighbourhood foursquare API calls are made to get top 200 venues in a radius of 1000 meters\n"
        },
        {
            "cell_type": "code",
            "execution_count": null,
            "metadata": {},
            "outputs": [],
            "source": ""
        }
    ],
    "metadata": {
        "kernelspec": {
            "display_name": "Python 3.7",
            "language": "python",
            "name": "python3"
        },
        "language_info": {
            "codemirror_mode": {
                "name": "ipython",
                "version": 3
            },
            "file_extension": ".py",
            "mimetype": "text/x-python",
            "name": "python",
            "nbconvert_exporter": "python",
            "pygments_lexer": "ipython3",
            "version": "3.7.10"
        }
    },
    "nbformat": 4,
    "nbformat_minor": 1
}