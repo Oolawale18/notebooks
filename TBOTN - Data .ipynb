{
    "cells": [
        {
            "cell_type": "markdown",
            "metadata": {
                "collapsed": true
            },
            "source": "# Data Analyzed \n\nNew York City is the city analyzed.\n\nFollowing facts and links attached:\n* The Neighborhod has a total of 5 Boroughs and 306 Neighborhoods, Hence, we need to segment them and explore them. Included are the Latitude and Longitude coordinates of each Neighborhood.\nhttps://geo.nyu.edu/catalog/nyu_2451_34572\n\n\n\n* As the Restaurant is involved with food, we looked into some data for markets like the DOHMH Farmer's market. (Also note that Farmer's market are places/sites used by local or regional producers for the direct sale of farm products to consumers. They are wholesalers of fresh foods and other minimally processed foods.     Here is a link of DOHMH \nhttps://data.cityofnewyork.us/dataset/DOHMH-Farmers-Markets-and-Food-Boxes/8vwk-6iz2 ,    Along with GrowNYC fresh food box Program link. https://www.grownyc.org/greenmarketco/foodbox\n\n\n\n* In addition to the markets, We scraped the internet for some important data such as --- New York Population: https://en.wikipedia.org/wiki/New_York_City , ---The Economy of New York City: https://en.wikipedia.org/wiki/Economy_of_New_York_City , --- New York City Portal and Demographics: https://en.wikipedia.org/wiki/Portal:New_York_City , ---Cuisines of New York City:  https://en.wikipedia.org/wiki/Cuisine_of_New_York_City , and Lastly, a list of the starred restaurants in the City: https://en.wikipedia.org/wiki/List_of_Michelin_starred_restaurants_in_New_York_City\n\n\n* Remember that Foursquare API would be used for the geographical coordinates and to get more information that would enable us to get insights into the Neighborhood : https://foursquare.com"
        },
        {
            "cell_type": "code",
            "execution_count": null,
            "metadata": {},
            "outputs": [],
            "source": ""
        }
    ],
    "metadata": {
        "kernelspec": {
            "display_name": "Python 3.7",
            "language": "python",
            "name": "python3"
        },
        "language_info": {
            "codemirror_mode": {
                "name": "ipython",
                "version": 3
            },
            "file_extension": ".py",
            "mimetype": "text/x-python",
            "name": "python",
            "nbconvert_exporter": "python",
            "pygments_lexer": "ipython3",
            "version": "3.7.10"
        }
    },
    "nbformat": 4,
    "nbformat_minor": 1
}